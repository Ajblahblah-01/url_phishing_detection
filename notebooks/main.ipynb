{
 "cells": [
  {
   "attachments": {},
   "cell_type": "markdown",
   "metadata": {},
   "source": [
    "\n",
    "<h1 style = \"font-size : 36px\">Phishing Detection in URLs <h1>\n"
   ]
  },
  {
   "cell_type": "code",
   "execution_count": 73,
   "metadata": {},
   "outputs": [
    {
     "data": {
      "text/plain": [
       "<torch._C.Generator at 0x11f1b7c10>"
      ]
     },
     "execution_count": 73,
     "metadata": {},
     "output_type": "execute_result"
    }
   ],
   "source": [
    "# import necessary libraries for the project which will also use pytorch\n",
    "import numpy as np\n",
    "import pandas as pd\n",
    "import matplotlib.pyplot as plt\n",
    "\n",
    "import torch\n",
    "import torch.nn as nn\n",
    "import torch.nn.functional as F\n",
    "\n",
    "from torch.utils.data import Dataset, DataLoader\n",
    "from torch.nn.utils.rnn import pad_sequence\n",
    "\n",
    "device = torch.device(\"cuda\" if torch.cuda.is_available() else \"cpu\")\n",
    "torch.manual_seed(1234)"
   ]
  },
  {
   "cell_type": "code",
   "execution_count": 2,
   "metadata": {},
   "outputs": [
    {
     "data": {
      "text/html": [
       "<div>\n",
       "<style scoped>\n",
       "    .dataframe tbody tr th:only-of-type {\n",
       "        vertical-align: middle;\n",
       "    }\n",
       "\n",
       "    .dataframe tbody tr th {\n",
       "        vertical-align: top;\n",
       "    }\n",
       "\n",
       "    .dataframe thead th {\n",
       "        text-align: right;\n",
       "    }\n",
       "</style>\n",
       "<table border=\"1\" class=\"dataframe\">\n",
       "  <thead>\n",
       "    <tr style=\"text-align: right;\">\n",
       "      <th></th>\n",
       "      <th>URL</th>\n",
       "      <th>Label</th>\n",
       "    </tr>\n",
       "  </thead>\n",
       "  <tbody>\n",
       "    <tr>\n",
       "      <th>0</th>\n",
       "      <td>nobell.it/70ffb52d079109dca5664cce6f317373782/...</td>\n",
       "      <td>bad</td>\n",
       "    </tr>\n",
       "    <tr>\n",
       "      <th>1</th>\n",
       "      <td>www.dghjdgf.com/paypal.co.uk/cycgi-bin/webscrc...</td>\n",
       "      <td>bad</td>\n",
       "    </tr>\n",
       "    <tr>\n",
       "      <th>2</th>\n",
       "      <td>serviciosbys.com/paypal.cgi.bin.get-into.herf....</td>\n",
       "      <td>bad</td>\n",
       "    </tr>\n",
       "    <tr>\n",
       "      <th>3</th>\n",
       "      <td>mail.printakid.com/www.online.americanexpress....</td>\n",
       "      <td>bad</td>\n",
       "    </tr>\n",
       "    <tr>\n",
       "      <th>4</th>\n",
       "      <td>thewhiskeydregs.com/wp-content/themes/widescre...</td>\n",
       "      <td>bad</td>\n",
       "    </tr>\n",
       "  </tbody>\n",
       "</table>\n",
       "</div>"
      ],
      "text/plain": [
       "                                                 URL Label\n",
       "0  nobell.it/70ffb52d079109dca5664cce6f317373782/...   bad\n",
       "1  www.dghjdgf.com/paypal.co.uk/cycgi-bin/webscrc...   bad\n",
       "2  serviciosbys.com/paypal.cgi.bin.get-into.herf....   bad\n",
       "3  mail.printakid.com/www.online.americanexpress....   bad\n",
       "4  thewhiskeydregs.com/wp-content/themes/widescre...   bad"
      ]
     },
     "execution_count": 2,
     "metadata": {},
     "output_type": "execute_result"
    }
   ],
   "source": [
    "df = pd.read_csv('../dataset/phishing_site_urls.csv')\n",
    "df.head()"
   ]
  },
  {
   "cell_type": "code",
   "execution_count": 3,
   "metadata": {},
   "outputs": [
    {
     "data": {
      "image/png": "[encoded data removed]",
      "text/plain": [
       "<Figure size 400x300 with 1 Axes>"
      ]
     },
     "metadata": {},
     "output_type": "display_data"
    }
   ],
   "source": [
    "# plot to see the distribution of the data\n",
    "plt.figure(figsize=(4, 3))\n",
    "plt.bar(df['Label'].unique(), df['Label'].value_counts())\n",
    "plt.show()\n"
   ]
  },
  {
   "attachments": {},
   "cell_type": "markdown",
   "metadata": {},
   "source": [
    "<h1> Feature extraction </h1>"
   ]
  },
  {
   "cell_type": "code",
   "execution_count": 4,
   "metadata": {},
   "outputs": [
    {
     "data": {
      "text/html": [
       "<div>\n",
       "<style scoped>\n",
       "    .dataframe tbody tr th:only-of-type {\n",
       "        vertical-align: middle;\n",
       "    }\n",
       "\n",
       "    .dataframe tbody tr th {\n",
       "        vertical-align: top;\n",
       "    }\n",
       "\n",
       "    .dataframe thead th {\n",
       "        text-align: right;\n",
       "    }\n",
       "</style>\n",
       "<table border=\"1\" class=\"dataframe\">\n",
       "  <thead>\n",
       "    <tr style=\"text-align: right;\">\n",
       "      <th></th>\n",
       "      <th>URL</th>\n",
       "      <th>Label</th>\n",
       "    </tr>\n",
       "  </thead>\n",
       "  <tbody>\n",
       "    <tr>\n",
       "      <th>0</th>\n",
       "      <td>nobell.it/70ffb52d079109dca5664cce6f317373782/...</td>\n",
       "      <td>1</td>\n",
       "    </tr>\n",
       "    <tr>\n",
       "      <th>1</th>\n",
       "      <td>www.dghjdgf.com/paypal.co.uk/cycgi-bin/webscrc...</td>\n",
       "      <td>1</td>\n",
       "    </tr>\n",
       "    <tr>\n",
       "      <th>2</th>\n",
       "      <td>serviciosbys.com/paypal.cgi.bin.get-into.herf....</td>\n",
       "      <td>1</td>\n",
       "    </tr>\n",
       "    <tr>\n",
       "      <th>3</th>\n",
       "      <td>mail.printakid.com/www.online.americanexpress....</td>\n",
       "      <td>1</td>\n",
       "    </tr>\n",
       "    <tr>\n",
       "      <th>4</th>\n",
       "      <td>thewhiskeydregs.com/wp-content/themes/widescre...</td>\n",
       "      <td>1</td>\n",
       "    </tr>\n",
       "  </tbody>\n",
       "</table>\n",
       "</div>"
      ],
      "text/plain": [
       "                                                 URL  Label\n",
       "0  nobell.it/70ffb52d079109dca5664cce6f317373782/...      1\n",
       "1  www.dghjdgf.com/paypal.co.uk/cycgi-bin/webscrc...      1\n",
       "2  serviciosbys.com/paypal.cgi.bin.get-into.herf....      1\n",
       "3  mail.printakid.com/www.online.americanexpress....      1\n",
       "4  thewhiskeydregs.com/wp-content/themes/widescre...      1"
      ]
     },
     "execution_count": 4,
     "metadata": {},
     "output_type": "execute_result"
    }
   ],
   "source": [
    "# replace bad good with encoded values\n",
    "df['Label'] = df['Label'].replace({'bad': 1, 'good': 0})\n",
    "df.head()"
   ]
  },
  {
   "cell_type": "code",
   "execution_count": 5,
   "metadata": {},
   "outputs": [
    {
     "data": {
      "text/plain": [
       "'nobell.it/70ffb52d079109dca5664cce6f317373782/login.SkyPe.com/en/cgi-bin/verification/login/70ffb52d079109dca5664cce6f317373/index.php?cmd=_profile-ach&outdated_page_tmpl=p/gen/failed-to-load&nav=0.5.1&login_access=1322408526 www.dghjdgf.com/paypal.co.uk/cycgi-bin/webscrcmd=_home-customer&nav=1/loading.php serviciosbys.com/paypal.cgi.bin.get-into.herf.secure.dispatch35463256rzr321654641dsf654321874/href/href/href/secure/center/update/limit/seccure/4d7a1ff5c55825a2e632a679c2fd5353/ mail.printakid.com/www.online.americanexpress.com/index.html thewhiskeydregs.com/wp-content/themes/widescreen/includes/temp/promocoessmiles/?84784787824HDJNDJDSJSHD//2724782784/ smilesvoegol.servebbs.org/voegol.php premierpaymentprocessing.com/includes/boleto-2via-07-2012.php myxxxcollection.com/v1/js/jih321/bpd.com.do/do/l.popular.php super1000.info/docs horizonsgallery.com/js/bin/ssl1/_id/www.paypal.com/fr/cgi-bin/webscr/cmd=_registration-run/login.php?cmd=_login-run&amp;dispatch=1471c4bdb044ae2be9e2fc3ec51'"
      ]
     },
     "execution_count": 5,
     "metadata": {},
     "output_type": "execute_result"
    }
   ],
   "source": [
    "text = \" \".join(df['URL'].values.tolist())\n",
    "text[:1000]"
   ]
  },
  {
   "cell_type": "code",
   "execution_count": 6,
   "metadata": {},
   "outputs": [
    {
     "name": "stdout",
     "output_type": "stream",
     "text": [
      "Vocabulary size: 287\n"
     ]
    }
   ],
   "source": [
    "char = sorted(list(set(text)))\n",
    "vocab_size = len(char)\n",
    "print('Vocabulary size:', vocab_size)"
   ]
  },
  {
   "cell_type": "code",
   "execution_count": 7,
   "metadata": {},
   "outputs": [],
   "source": [
    "# make a new column that has the count of '-' in the URL and name it sub_domain\n",
    "df['sub_domain'] = df['URL'].apply(lambda x: x.count('.'))\n",
    "df['length_url'] = df['URL'].apply(lambda x: len(x))\n",
    "df['dash_symbol'] = df['URL'].apply(lambda x: x.count('-'))"
   ]
  },
  {
   "cell_type": "code",
   "execution_count": 8,
   "metadata": {},
   "outputs": [
    {
     "data": {
      "text/html": [
       "<div>\n",
       "<style scoped>\n",
       "    .dataframe tbody tr th:only-of-type {\n",
       "        vertical-align: middle;\n",
       "    }\n",
       "\n",
       "    .dataframe tbody tr th {\n",
       "        vertical-align: top;\n",
       "    }\n",
       "\n",
       "    .dataframe thead th {\n",
       "        text-align: right;\n",
       "    }\n",
       "</style>\n",
       "<table border=\"1\" class=\"dataframe\">\n",
       "  <thead>\n",
       "    <tr style=\"text-align: right;\">\n",
       "      <th></th>\n",
       "      <th>URL</th>\n",
       "      <th>Label</th>\n",
       "      <th>sub_domain</th>\n",
       "      <th>length_url</th>\n",
       "      <th>dash_symbol</th>\n",
       "    </tr>\n",
       "  </thead>\n",
       "  <tbody>\n",
       "    <tr>\n",
       "      <th>0</th>\n",
       "      <td>nobell.it/70ffb52d079109dca5664cce6f317373782/...</td>\n",
       "      <td>1</td>\n",
       "      <td>6</td>\n",
       "      <td>225</td>\n",
       "      <td>4</td>\n",
       "    </tr>\n",
       "    <tr>\n",
       "      <th>1</th>\n",
       "      <td>www.dghjdgf.com/paypal.co.uk/cycgi-bin/webscrc...</td>\n",
       "      <td>1</td>\n",
       "      <td>5</td>\n",
       "      <td>81</td>\n",
       "      <td>2</td>\n",
       "    </tr>\n",
       "    <tr>\n",
       "      <th>2</th>\n",
       "      <td>serviciosbys.com/paypal.cgi.bin.get-into.herf....</td>\n",
       "      <td>1</td>\n",
       "      <td>7</td>\n",
       "      <td>177</td>\n",
       "      <td>1</td>\n",
       "    </tr>\n",
       "    <tr>\n",
       "      <th>3</th>\n",
       "      <td>mail.printakid.com/www.online.americanexpress....</td>\n",
       "      <td>1</td>\n",
       "      <td>6</td>\n",
       "      <td>60</td>\n",
       "      <td>0</td>\n",
       "    </tr>\n",
       "    <tr>\n",
       "      <th>4</th>\n",
       "      <td>thewhiskeydregs.com/wp-content/themes/widescre...</td>\n",
       "      <td>1</td>\n",
       "      <td>1</td>\n",
       "      <td>116</td>\n",
       "      <td>1</td>\n",
       "    </tr>\n",
       "  </tbody>\n",
       "</table>\n",
       "</div>"
      ],
      "text/plain": [
       "                                                 URL  Label  sub_domain  \\\n",
       "0  nobell.it/70ffb52d079109dca5664cce6f317373782/...      1           6   \n",
       "1  www.dghjdgf.com/paypal.co.uk/cycgi-bin/webscrc...      1           5   \n",
       "2  serviciosbys.com/paypal.cgi.bin.get-into.herf....      1           7   \n",
       "3  mail.printakid.com/www.online.americanexpress....      1           6   \n",
       "4  thewhiskeydregs.com/wp-content/themes/widescre...      1           1   \n",
       "\n",
       "   length_url  dash_symbol  \n",
       "0         225            4  \n",
       "1          81            2  \n",
       "2         177            1  \n",
       "3          60            0  \n",
       "4         116            1  "
      ]
     },
     "execution_count": 8,
     "metadata": {},
     "output_type": "execute_result"
    }
   ],
   "source": [
    "df.head()"
   ]
  },
  {
   "attachments": {},
   "cell_type": "markdown",
   "metadata": {},
   "source": [
    "<h2> Counting sensitive words </h2>"
   ]
  },
  {
   "cell_type": "code",
   "execution_count": 9,
   "metadata": {},
   "outputs": [],
   "source": [
    "def get_words(url):\n",
    "    words = []\n",
    "    word = \"\"\n",
    "    for ch in url:\n",
    "        if (ch >= 'a' and ch <= 'z') or (ch >= 'A' and ch <= 'Z'):\n",
    "            word += ch\n",
    "        else:\n",
    "            if word:\n",
    "                words.append(word)\n",
    "            word = \"\"\n",
    "    return words\n"
   ]
  },
  {
   "cell_type": "code",
   "execution_count": 10,
   "metadata": {},
   "outputs": [],
   "source": [
    "bad_words = get_words(df[df['Label'] == 1]['URL'].str.cat(sep=\" \"))\n",
    "# create a dictionary of words and their frequency\n",
    "word_freq = {}\n",
    "for word in bad_words:\n",
    "    if word in word_freq:\n",
    "        word_freq[word] += 1\n",
    "    else:\n",
    "        word_freq[word] = 1\n",
    "# sort the dictionary in descending order\n",
    "word_freq = dict(sorted(word_freq.items(), key=lambda x: x[1], reverse=True))\n",
    "sensitive_words = list(word_freq.keys())[:150]"
   ]
  },
  {
   "cell_type": "code",
   "execution_count": 11,
   "metadata": {},
   "outputs": [],
   "source": [
    "good_url_words = get_words(df[df['Label'] == 0]['URL'].str.cat(sep=\" \"))\n",
    "good_word_freq = {}\n",
    "for word in good_url_words:\n",
    "    if word in good_word_freq:\n",
    "        good_word_freq[word] += 1\n",
    "    else:\n",
    "        good_word_freq[word] = 1\n",
    "good_word_freq = dict(sorted(good_word_freq.items(), key=lambda x: x[1], reverse=True))\n",
    "good_words = list(good_word_freq.keys())[:20]"
   ]
  },
  {
   "cell_type": "code",
   "execution_count": 12,
   "metadata": {},
   "outputs": [],
   "source": [
    "# remove good words from sensitive words\n",
    "good_words_map = {}\n",
    "for word in good_words:\n",
    "    good_words_map[word] = 1\n",
    "sensitive_words = [word for word in sensitive_words if word not in good_words_map and len(word) > 1]"
   ]
  },
  {
   "cell_type": "code",
   "execution_count": 13,
   "metadata": {},
   "outputs": [],
   "source": [
    "df['count_sensitive_words'] = df['URL'].apply(lambda x: len([w for w in get_words(x) if w in sensitive_words]))"
   ]
  },
  {
   "attachments": {},
   "cell_type": "markdown",
   "metadata": {},
   "source": [
    "<h1> Pytorch Model <h1>"
   ]
  },
  {
   "cell_type": "code",
   "execution_count": 14,
   "metadata": {},
   "outputs": [],
   "source": [
    "from nltk.tokenize import RegexpTokenizer  \n",
    "from nltk.stem.snowball import SnowballStemmer\n",
    "import time "
   ]
  },
  {
   "cell_type": "code",
   "execution_count": 15,
   "metadata": {},
   "outputs": [],
   "source": [
    "tokenizer = RegexpTokenizer(r'[A-Za-z]+')\n",
    "stemmer = SnowballStemmer(\"english\")"
   ]
  },
  {
   "cell_type": "code",
   "execution_count": 16,
   "metadata": {},
   "outputs": [
    {
     "name": "stdout",
     "output_type": "stream",
     "text": [
      "Getting words tokenized ...\n",
      "Time taken 1.205102416999999 sec\n"
     ]
    }
   ],
   "source": [
    "print('Getting words tokenized ...')\n",
    "t0= time.perf_counter()\n",
    "df['text_tokenized'] = df.URL.map(lambda t: tokenizer.tokenize(t))\n",
    "t1 = time.perf_counter() - t0\n",
    "print('Time taken',t1 ,'sec')"
   ]
  },
  {
   "cell_type": "code",
   "execution_count": 17,
   "metadata": {},
   "outputs": [
    {
     "name": "stdout",
     "output_type": "stream",
     "text": [
      "Getting words stemmed ...\n",
      "Time taken 23.011401415999998 sec\n"
     ]
    }
   ],
   "source": [
    "print('Getting words stemmed ...')\n",
    "t0= time.perf_counter()\n",
    "df['text_stemmed'] = df['text_tokenized'].map(lambda l: [stemmer.stem(word) for word in l])\n",
    "t1= time.perf_counter() - t0\n",
    "print('Time taken',t1 ,'sec')"
   ]
  },
  {
   "cell_type": "code",
   "execution_count": 18,
   "metadata": {},
   "outputs": [
    {
     "data": {
      "text/html": [
       "<div>\n",
       "<style scoped>\n",
       "    .dataframe tbody tr th:only-of-type {\n",
       "        vertical-align: middle;\n",
       "    }\n",
       "\n",
       "    .dataframe tbody tr th {\n",
       "        vertical-align: top;\n",
       "    }\n",
       "\n",
       "    .dataframe thead th {\n",
       "        text-align: right;\n",
       "    }\n",
       "</style>\n",
       "<table border=\"1\" class=\"dataframe\">\n",
       "  <thead>\n",
       "    <tr style=\"text-align: right;\">\n",
       "      <th></th>\n",
       "      <th>URL</th>\n",
       "      <th>Label</th>\n",
       "      <th>sub_domain</th>\n",
       "      <th>length_url</th>\n",
       "      <th>dash_symbol</th>\n",
       "      <th>count_sensitive_words</th>\n",
       "      <th>text_tokenized</th>\n",
       "      <th>text_stemmed</th>\n",
       "    </tr>\n",
       "  </thead>\n",
       "  <tbody>\n",
       "    <tr>\n",
       "      <th>109277</th>\n",
       "      <td>ubauto.com.br/phpt-file/ymmmm/yinput/id.php?l=...</td>\n",
       "      <td>1</td>\n",
       "      <td>3</td>\n",
       "      <td>92</td>\n",
       "      <td>2</td>\n",
       "      <td>3</td>\n",
       "      <td>[ubauto, com, br, phpt, file, ymmmm, yinput, i...</td>\n",
       "      <td>[ubauto, com, br, phpt, file, ymmmm, yinput, i...</td>\n",
       "    </tr>\n",
       "    <tr>\n",
       "      <th>88685</th>\n",
       "      <td>www.deakin.edu.au/~rodneyc/XLStats.htm</td>\n",
       "      <td>0</td>\n",
       "      <td>4</td>\n",
       "      <td>38</td>\n",
       "      <td>0</td>\n",
       "      <td>1</td>\n",
       "      <td>[www, deakin, edu, au, rodneyc, XLStats, htm]</td>\n",
       "      <td>[www, deakin, edu, au, rodneyc, xlstat, htm]</td>\n",
       "    </tr>\n",
       "    <tr>\n",
       "      <th>218311</th>\n",
       "      <td>music.yahoo.com/michel-rivard/albums/</td>\n",
       "      <td>0</td>\n",
       "      <td>2</td>\n",
       "      <td>37</td>\n",
       "      <td>1</td>\n",
       "      <td>0</td>\n",
       "      <td>[music, yahoo, com, michel, rivard, albums]</td>\n",
       "      <td>[music, yahoo, com, michel, rivard, album]</td>\n",
       "    </tr>\n",
       "    <tr>\n",
       "      <th>497720</th>\n",
       "      <td>valsystem.cl/v4db1wd</td>\n",
       "      <td>1</td>\n",
       "      <td>1</td>\n",
       "      <td>20</td>\n",
       "      <td>0</td>\n",
       "      <td>2</td>\n",
       "      <td>[valsystem, cl, v, db, wd]</td>\n",
       "      <td>[valsystem, cl, v, db, wd]</td>\n",
       "    </tr>\n",
       "    <tr>\n",
       "      <th>307627</th>\n",
       "      <td>coldwellbanker.com/real_estate/home_search/wa/...</td>\n",
       "      <td>0</td>\n",
       "      <td>1</td>\n",
       "      <td>56</td>\n",
       "      <td>0</td>\n",
       "      <td>1</td>\n",
       "      <td>[coldwellbanker, com, real, estate, home, sear...</td>\n",
       "      <td>[coldwellbank, com, real, estat, home, search,...</td>\n",
       "    </tr>\n",
       "  </tbody>\n",
       "</table>\n",
       "</div>"
      ],
      "text/plain": [
       "                                                      URL  Label  sub_domain  \\\n",
       "109277  ubauto.com.br/phpt-file/ymmmm/yinput/id.php?l=...      1           3   \n",
       "88685              www.deakin.edu.au/~rodneyc/XLStats.htm      0           4   \n",
       "218311              music.yahoo.com/michel-rivard/albums/      0           2   \n",
       "497720                               valsystem.cl/v4db1wd      1           1   \n",
       "307627  coldwellbanker.com/real_estate/home_search/wa/...      0           1   \n",
       "\n",
       "        length_url  dash_symbol  count_sensitive_words  \\\n",
       "109277          92            2                      3   \n",
       "88685           38            0                      1   \n",
       "218311          37            1                      0   \n",
       "497720          20            0                      2   \n",
       "307627          56            0                      1   \n",
       "\n",
       "                                           text_tokenized  \\\n",
       "109277  [ubauto, com, br, phpt, file, ymmmm, yinput, i...   \n",
       "88685       [www, deakin, edu, au, rodneyc, XLStats, htm]   \n",
       "218311        [music, yahoo, com, michel, rivard, albums]   \n",
       "497720                         [valsystem, cl, v, db, wd]   \n",
       "307627  [coldwellbanker, com, real, estate, home, sear...   \n",
       "\n",
       "                                             text_stemmed  \n",
       "109277  [ubauto, com, br, phpt, file, ymmmm, yinput, i...  \n",
       "88685        [www, deakin, edu, au, rodneyc, xlstat, htm]  \n",
       "218311         [music, yahoo, com, michel, rivard, album]  \n",
       "497720                         [valsystem, cl, v, db, wd]  \n",
       "307627  [coldwellbank, com, real, estat, home, search,...  "
      ]
     },
     "execution_count": 18,
     "metadata": {},
     "output_type": "execute_result"
    }
   ],
   "source": [
    "df.sample(5)"
   ]
  },
  {
   "cell_type": "code",
   "execution_count": 173,
   "metadata": {},
   "outputs": [
    {
     "name": "stdout",
     "output_type": "stream",
     "text": [
      "Get joiningwords ...\n",
      "Time taken 0.32970387499972276 sec\n"
     ]
    }
   ],
   "source": [
    "# Joining all the stemmmed words.\n",
    "print('Get joiningwords ...')\n",
    "t0= time.perf_counter()\n",
    "df['text_sent'] = df['text_stemmed'].apply(lambda l: ' '.join([token for token in l if len(token) > 1]))\n",
    "t1= time.perf_counter() - t0\n",
    "print('Time taken',t1 ,'sec')"
   ]
  },
  {
   "cell_type": "code",
   "execution_count": 174,
   "metadata": {},
   "outputs": [
    {
     "data": {
      "text/html": [
       "<div>\n",
       "<style scoped>\n",
       "    .dataframe tbody tr th:only-of-type {\n",
       "        vertical-align: middle;\n",
       "    }\n",
       "\n",
       "    .dataframe tbody tr th {\n",
       "        vertical-align: top;\n",
       "    }\n",
       "\n",
       "    .dataframe thead th {\n",
       "        text-align: right;\n",
       "    }\n",
       "</style>\n",
       "<table border=\"1\" class=\"dataframe\">\n",
       "  <thead>\n",
       "    <tr style=\"text-align: right;\">\n",
       "      <th></th>\n",
       "      <th>URL</th>\n",
       "      <th>Label</th>\n",
       "      <th>sub_domain</th>\n",
       "      <th>length_url</th>\n",
       "      <th>dash_symbol</th>\n",
       "      <th>count_sensitive_words</th>\n",
       "      <th>text_tokenized</th>\n",
       "      <th>text_stemmed</th>\n",
       "      <th>text_sent</th>\n",
       "    </tr>\n",
       "  </thead>\n",
       "  <tbody>\n",
       "    <tr>\n",
       "      <th>0</th>\n",
       "      <td>nobell.it/70ffb52d079109dca5664cce6f317373782/...</td>\n",
       "      <td>1</td>\n",
       "      <td>6</td>\n",
       "      <td>225</td>\n",
       "      <td>4</td>\n",
       "      <td>7</td>\n",
       "      <td>[nobell, it, ffb, d, dca, cce, f, login, SkyPe...</td>\n",
       "      <td>[nobel, it, ffb, d, dca, cce, f, login, skype,...</td>\n",
       "      <td>nobel it ffb dca cce login skype com en cgi bi...</td>\n",
       "    </tr>\n",
       "    <tr>\n",
       "      <th>1</th>\n",
       "      <td>www.dghjdgf.com/paypal.co.uk/cycgi-bin/webscrc...</td>\n",
       "      <td>1</td>\n",
       "      <td>5</td>\n",
       "      <td>81</td>\n",
       "      <td>2</td>\n",
       "      <td>5</td>\n",
       "      <td>[www, dghjdgf, com, paypal, co, uk, cycgi, bin...</td>\n",
       "      <td>[www, dghjdgf, com, paypal, co, uk, cycgi, bin...</td>\n",
       "      <td>www dghjdgf com paypal co uk cycgi bin webscrc...</td>\n",
       "    </tr>\n",
       "    <tr>\n",
       "      <th>2</th>\n",
       "      <td>serviciosbys.com/paypal.cgi.bin.get-into.herf....</td>\n",
       "      <td>1</td>\n",
       "      <td>7</td>\n",
       "      <td>177</td>\n",
       "      <td>1</td>\n",
       "      <td>9</td>\n",
       "      <td>[serviciosbys, com, paypal, cgi, bin, get, int...</td>\n",
       "      <td>[serviciosbi, com, paypal, cgi, bin, get, into...</td>\n",
       "      <td>serviciosbi com paypal cgi bin get into herf s...</td>\n",
       "    </tr>\n",
       "    <tr>\n",
       "      <th>3</th>\n",
       "      <td>mail.printakid.com/www.online.americanexpress....</td>\n",
       "      <td>1</td>\n",
       "      <td>6</td>\n",
       "      <td>60</td>\n",
       "      <td>0</td>\n",
       "      <td>1</td>\n",
       "      <td>[mail, printakid, com, www, online, americanex...</td>\n",
       "      <td>[mail, printakid, com, www, onlin, americanexp...</td>\n",
       "      <td>mail printakid com www onlin americanexpress c...</td>\n",
       "    </tr>\n",
       "    <tr>\n",
       "      <th>4</th>\n",
       "      <td>thewhiskeydregs.com/wp-content/themes/widescre...</td>\n",
       "      <td>1</td>\n",
       "      <td>1</td>\n",
       "      <td>116</td>\n",
       "      <td>1</td>\n",
       "      <td>4</td>\n",
       "      <td>[thewhiskeydregs, com, wp, content, themes, wi...</td>\n",
       "      <td>[thewhiskeydreg, com, wp, content, theme, wide...</td>\n",
       "      <td>thewhiskeydreg com wp content theme widescreen...</td>\n",
       "    </tr>\n",
       "  </tbody>\n",
       "</table>\n",
       "</div>"
      ],
      "text/plain": [
       "                                                 URL  Label  sub_domain  \\\n",
       "0  nobell.it/70ffb52d079109dca5664cce6f317373782/...      1           6   \n",
       "1  www.dghjdgf.com/paypal.co.uk/cycgi-bin/webscrc...      1           5   \n",
       "2  serviciosbys.com/paypal.cgi.bin.get-into.herf....      1           7   \n",
       "3  mail.printakid.com/www.online.americanexpress....      1           6   \n",
       "4  thewhiskeydregs.com/wp-content/themes/widescre...      1           1   \n",
       "\n",
       "   length_url  dash_symbol  count_sensitive_words  \\\n",
       "0         225            4                      7   \n",
       "1          81            2                      5   \n",
       "2         177            1                      9   \n",
       "3          60            0                      1   \n",
       "4         116            1                      4   \n",
       "\n",
       "                                      text_tokenized  \\\n",
       "0  [nobell, it, ffb, d, dca, cce, f, login, SkyPe...   \n",
       "1  [www, dghjdgf, com, paypal, co, uk, cycgi, bin...   \n",
       "2  [serviciosbys, com, paypal, cgi, bin, get, int...   \n",
       "3  [mail, printakid, com, www, online, americanex...   \n",
       "4  [thewhiskeydregs, com, wp, content, themes, wi...   \n",
       "\n",
       "                                        text_stemmed  \\\n",
       "0  [nobel, it, ffb, d, dca, cce, f, login, skype,...   \n",
       "1  [www, dghjdgf, com, paypal, co, uk, cycgi, bin...   \n",
       "2  [serviciosbi, com, paypal, cgi, bin, get, into...   \n",
       "3  [mail, printakid, com, www, onlin, americanexp...   \n",
       "4  [thewhiskeydreg, com, wp, content, theme, wide...   \n",
       "\n",
       "                                           text_sent  \n",
       "0  nobel it ffb dca cce login skype com en cgi bi...  \n",
       "1  www dghjdgf com paypal co uk cycgi bin webscrc...  \n",
       "2  serviciosbi com paypal cgi bin get into herf s...  \n",
       "3  mail printakid com www onlin americanexpress c...  \n",
       "4  thewhiskeydreg com wp content theme widescreen...  "
      ]
     },
     "execution_count": 174,
     "metadata": {},
     "output_type": "execute_result"
    }
   ],
   "source": [
    "df.head()"
   ]
  },
  {
   "cell_type": "code",
   "execution_count": 175,
   "metadata": {},
   "outputs": [],
   "source": [
    "from transformers import BertTokenizer"
   ]
  },
  {
   "cell_type": "code",
   "execution_count": 176,
   "metadata": {},
   "outputs": [],
   "source": [
    "tokenizer = BertTokenizer.from_pretrained('/Users/arpit/Downloads/python_nb/url_phishing_detection/tokenizer/arpit')"
   ]
  },
  {
   "cell_type": "code",
   "execution_count": 165,
   "metadata": {},
   "outputs": [],
   "source": [
    "# create a new dataframe with the text_sent column and the label column named df_train\n",
    "df_train = pd.DataFrame({'text': df['text_sent'], 'label': df['Label']})"
   ]
  },
  {
   "cell_type": "code",
   "execution_count": 166,
   "metadata": {},
   "outputs": [
    {
     "data": {
      "text/html": [
       "<div>\n",
       "<style scoped>\n",
       "    .dataframe tbody tr th:only-of-type {\n",
       "        vertical-align: middle;\n",
       "    }\n",
       "\n",
       "    .dataframe tbody tr th {\n",
       "        vertical-align: top;\n",
       "    }\n",
       "\n",
       "    .dataframe thead th {\n",
       "        text-align: right;\n",
       "    }\n",
       "</style>\n",
       "<table border=\"1\" class=\"dataframe\">\n",
       "  <thead>\n",
       "    <tr style=\"text-align: right;\">\n",
       "      <th></th>\n",
       "      <th>text</th>\n",
       "      <th>label</th>\n",
       "    </tr>\n",
       "  </thead>\n",
       "  <tbody>\n",
       "    <tr>\n",
       "      <th>0</th>\n",
       "      <td>nobel ffb dca cce login skype com cgi bin veri...</td>\n",
       "      <td>1</td>\n",
       "    </tr>\n",
       "    <tr>\n",
       "      <th>1</th>\n",
       "      <td>www dghjdgf com paypal cycgi bin webscrcmd hom...</td>\n",
       "      <td>1</td>\n",
       "    </tr>\n",
       "    <tr>\n",
       "      <th>2</th>\n",
       "      <td>serviciosbi com paypal cgi bin get into herf s...</td>\n",
       "      <td>1</td>\n",
       "    </tr>\n",
       "    <tr>\n",
       "      <th>3</th>\n",
       "      <td>mail printakid com www onlin americanexpress c...</td>\n",
       "      <td>1</td>\n",
       "    </tr>\n",
       "    <tr>\n",
       "      <th>4</th>\n",
       "      <td>thewhiskeydreg com content theme widescreen in...</td>\n",
       "      <td>1</td>\n",
       "    </tr>\n",
       "  </tbody>\n",
       "</table>\n",
       "</div>"
      ],
      "text/plain": [
       "                                                text  label\n",
       "0  nobel ffb dca cce login skype com cgi bin veri...      1\n",
       "1  www dghjdgf com paypal cycgi bin webscrcmd hom...      1\n",
       "2  serviciosbi com paypal cgi bin get into herf s...      1\n",
       "3  mail printakid com www onlin americanexpress c...      1\n",
       "4  thewhiskeydreg com content theme widescreen in...      1"
      ]
     },
     "execution_count": 166,
     "metadata": {},
     "output_type": "execute_result"
    }
   ],
   "source": [
    "df_train.head()"
   ]
  },
  {
   "cell_type": "code",
   "execution_count": 177,
   "metadata": {},
   "outputs": [],
   "source": [
    "def encode(text):\n",
    "    encoded_text = tokenizer.encode(text, add_special_tokens=True)\n",
    "    sequence = torch.tensor(encoded_text).float()\n",
    "    return sequence"
   ]
  },
  {
   "cell_type": "code",
   "execution_count": 179,
   "metadata": {},
   "outputs": [],
   "source": [
    "df_train['text'] = df_train['text'].apply(lambda x: encode(x))"
   ]
  },
  {
   "cell_type": "code",
   "execution_count": 180,
   "metadata": {},
   "outputs": [
    {
     "name": "stdout",
     "output_type": "stream",
     "text": [
      "Mean length of the sequence: 20.060042304849766\n"
     ]
    }
   ],
   "source": [
    "# calculate the mean length of the sequence\n",
    "mean_length = df_train['text'].apply(lambda x: len(x)).mean()\n",
    "print('Mean length of the sequence:', mean_length)"
   ]
  },
  {
   "cell_type": "code",
   "execution_count": 189,
   "metadata": {},
   "outputs": [
    {
     "name": "stdout",
     "output_type": "stream",
     "text": [
      "Percentage of sequences less than 512 in length: 0.9872557550250661\n"
     ]
    }
   ],
   "source": [
    "# calculate the percentage of sequences that are less than 512\n",
    "print('Percentage of sequences less than 512 in length:', len(df_train[df_train['text'].apply(lambda x: len(x) <= 64)]) / len(df_train))\n"
   ]
  },
  {
   "cell_type": "code",
   "execution_count": 190,
   "metadata": {},
   "outputs": [],
   "source": [
    "text_list = df_train['text'].tolist()\n",
    "# Pad the text tensors in the list\n",
    "for i,text in enumerate(text_list):\n",
    "    text_list[i]/=1000\n",
    "    if(len(text) > 64):\n",
    "        text_list[i] = text_list[i][:64]\n",
    "\n",
    "\n",
    "padded_text = pad_sequence(text_list, batch_first=True)"
   ]
  },
  {
   "cell_type": "code",
   "execution_count": 191,
   "metadata": {},
   "outputs": [],
   "source": [
    "n = len(padded_text)\n",
    "train_text = padded_text[:int(0.8 * n)]\n",
    "val_text = padded_text[int(0.8 * n):]\n",
    "train_target = df_train['label'].tolist()[:int(0.8 * n)]\n",
    "val_target = df_train['label'].tolist()[int(0.8 * n):]"
   ]
  },
  {
   "cell_type": "code",
   "execution_count": 192,
   "metadata": {},
   "outputs": [
    {
     "data": {
      "text/plain": [
       "torch.Size([64])"
      ]
     },
     "execution_count": 192,
     "metadata": {},
     "output_type": "execute_result"
    }
   ],
   "source": [
    "train_text[1].shape"
   ]
  },
  {
   "cell_type": "code",
   "execution_count": 193,
   "metadata": {},
   "outputs": [],
   "source": [
    "# Define a PyTorch dataset\n",
    "class MyDatasetTrain(Dataset):\n",
    "    def __init__(self, data, targets):\n",
    "        self.data = data\n",
    "        self.targets = targets\n",
    "\n",
    "    def __len__(self):\n",
    "        return len(self.data)\n",
    "\n",
    "    def __getitem__(self, index):\n",
    "        text = self.data[index]\n",
    "        target = self.targets[index]\n",
    "        text , target = torch.tensor(text), torch.tensor(target)\n",
    "        text , target = text.to(device), target.to(device)\n",
    "        return text, target"
   ]
  },
  {
   "cell_type": "code",
   "execution_count": 194,
   "metadata": {},
   "outputs": [],
   "source": [
    "# Define a PyTorch dataset\n",
    "class MyDatasetVal(Dataset):\n",
    "    def __init__(self, data, targets):\n",
    "        self.data = data\n",
    "        self.targets = targets\n",
    "\n",
    "    def __len__(self):\n",
    "        return len(self.data)\n",
    "\n",
    "    def __getitem__(self, index):\n",
    "        text = self.data[index]\n",
    "        target = self.targets[index]\n",
    "        text , target = torch.tensor(text), torch.tensor(target)\n",
    "        text , target = text.to(device), target.to(device)\n",
    "        return text, target"
   ]
  },
  {
   "cell_type": "code",
   "execution_count": 195,
   "metadata": {},
   "outputs": [],
   "source": [
    "train_data = MyDatasetTrain(train_text, train_target)\n",
    "val_data = MyDatasetVal(val_text, val_target)"
   ]
  },
  {
   "cell_type": "code",
   "execution_count": 196,
   "metadata": {},
   "outputs": [],
   "source": [
    "# Define a PyTorch DataLoader\n",
    "batch_size = 128\n",
    "train_dataloader = DataLoader(train_data, batch_size=batch_size)\n",
    "val_dataloader = DataLoader(val_data, batch_size=batch_size)"
   ]
  },
  {
   "cell_type": "code",
   "execution_count": 356,
   "metadata": {},
   "outputs": [],
   "source": [
    "class MyModelForText(torch.nn.Module):\n",
    "    def __init__(self, weight_decay=0.2):\n",
    "        super(MyModelForText, self).__init__()\n",
    "        self.input_dim = 64\n",
    "        self.hidden_dim = 4\n",
    "        self.output_dim = 1\n",
    "        self.num_layers = 2\n",
    "        self.dropout = 0.3\n",
    "        self.norm_layer = nn.LayerNorm(self.input_dim)\n",
    "        self.norm_layer_2 = nn.LayerNorm(self.hidden_dim)\n",
    "        self.input_layer = nn.Linear(self.input_dim, self.hidden_dim)\n",
    "        # self.hidden_layer = nn.Linear(self.hidden_dim, self.hidden_dim)\n",
    "        self.output_layer = nn.Linear(self.hidden_dim, self.output_dim)\n",
    "        self.weight_decay = weight_decay\n",
    "\n",
    "    def forward(self, x, target=None):\n",
    "        x = x.to(self.input_layer.weight.dtype)\n",
    "        x = self.input_layer(self.norm_layer(x))\n",
    "        x = F.dropout(x, p=self.dropout)\n",
    "        x = torch.tanh(x)\n",
    "        # x = self.hidden_layer(x)\n",
    "        # x = torch.tanh(x)\n",
    "        # x = F.dropout(x, p=self.dropout)\n",
    "        x = self.output_layer(x)\n",
    "        logits = torch.sigmoid(x)\n",
    "\n",
    "        if target is None:\n",
    "            loss = None\n",
    "        else:\n",
    "            weight_decay_loss = 0.0\n",
    "            for param in self.parameters():\n",
    "                weight_decay_loss += self.weight_decay * torch.norm(param, 2)\n",
    "            loss = F.binary_cross_entropy(logits, target.view(-1, 1).float()) + weight_decay_loss\n",
    "\n",
    "        return logits, loss\n",
    "# class MyModelForText(nn.Module):\n",
    "#     def __init__(self):\n",
    "#         super(MyModelForText, self).__init__()\n",
    "#         self.input_dim = 512\n",
    "#         self.hidden_dim = 1024\n",
    "#         self.output_dim = 1\n",
    "#         self.num_layers = 2\n",
    "#         self.dropout = 0.2\n",
    "#         self.norm_layer = nn.LayerNorm(self.input_dim)\n",
    "        \n",
    "#         # Add LSTM layers\n",
    "#         self.lstm = nn.LSTM(input_size=self.input_dim, hidden_size=self.hidden_dim, \n",
    "#                             num_layers=self.num_layers, batch_first=True, \n",
    "#                             dropout=self.dropout, bidirectional=False)\n",
    "        \n",
    "#         self.output_layer = nn.Linear(self.hidden_dim, 1000)\n",
    "\n",
    "#     def forward(self, x, target=None):\n",
    "#         x = x.to(self.lstm.weight_ih_l0.dtype)\n",
    "        \n",
    "#         # Pass input through LSTM layers\n",
    "#         lstm_out, _ = self.lstm(self.norm_layer(x))\n",
    "        \n",
    "#         # Extract output from the final timestep\n",
    "#         lstm_out = torch.squeeze(lstm_out[:, -1])\n",
    "        \n",
    "#         # Pass through output layer\n",
    "#         logits = self.output_layer(lstm_out)\n",
    "#         logits = torch.sigmoid(logits)\n",
    "        \n",
    "#         if target is None:\n",
    "#             loss = None\n",
    "#         else:\n",
    "#             loss = F.binary_cross_entropy(logits, target.view(-1, 1).float())\n",
    "\n",
    "#         return logits, loss\n"
   ]
  },
  {
   "cell_type": "code",
   "execution_count": 357,
   "metadata": {},
   "outputs": [],
   "source": [
    "model = MyModelForText()\n",
    "model = model.to(device)\n",
    "# calc parameters\n",
    "def count_parameters(model):\n",
    "    return sum(p.numel() for p in model.parameters() if p.requires_grad)\n",
    "# optimizer\n",
    "optimizer = torch.optim.Adam(model.parameters(), lr=3e-3)"
   ]
  },
  {
   "cell_type": "code",
   "execution_count": 358,
   "metadata": {},
   "outputs": [],
   "source": [
    "def get_batch(split):\n",
    "    if split == 'train' :\n",
    "        return next(iter(train_dataloader))\n",
    "    else:\n",
    "        return next(iter(val_dataloader))"
   ]
  },
  {
   "cell_type": "code",
   "execution_count": 359,
   "metadata": {},
   "outputs": [],
   "source": [
    "# Iterate over the validation data in batches and evaluate the model\n",
    "eval_iters = 100\n",
    "@torch.no_grad()\n",
    "def estimate_loss(split):\n",
    "    model.eval()\n",
    "    losses = torch.zeros(eval_iters)\n",
    "    for k in range(eval_iters):\n",
    "        text, target = get_batch(split)\n",
    "        output = model(text, target)\n",
    "        logits, loss = output\n",
    "        losses[k] = loss.item()\n",
    "    model.train()\n",
    "    return losses.mean()"
   ]
  },
  {
   "cell_type": "code",
   "execution_count": 360,
   "metadata": {},
   "outputs": [],
   "source": [
    "train_loss = []\n",
    "val_loss = []"
   ]
  },
  {
   "cell_type": "code",
   "execution_count": 361,
   "metadata": {},
   "outputs": [
    {
     "name": "stderr",
     "output_type": "stream",
     "text": [
      "/var/folders/rv/_5tfd6f94s7gykpts92y23g80000gn/T/ipykernel_27323/309159916.py:13: UserWarning: To copy construct from a tensor, it is recommended to use sourceTensor.clone().detach() or sourceTensor.clone().detach().requires_grad_(True), rather than torch.tensor(sourceTensor).\n",
      "  text , target = torch.tensor(text), torch.tensor(target)\n"
     ]
    },
    {
     "name": "stdout",
     "output_type": "stream",
     "text": [
      "Iteration: 0 Loss: 2.9097 Validation Loss: 3.3556\n",
      "Iteration: 100 Loss: 1.9802 Validation Loss: 3.2257\n",
      "Iteration: 200 Loss: 1.4343 Validation Loss: 2.6541\n",
      "Iteration: 300 Loss: 0.7429 Validation Loss: 1.7447\n",
      "Iteration: 400 Loss: 0.5034 Validation Loss: 1.7438\n",
      "Iteration: 500 Loss: 0.5018 Validation Loss: 1.8367\n",
      "Iteration: 600 Loss: 0.5021 Validation Loss: 1.8724\n",
      "Iteration: 700 Loss: 0.5014 Validation Loss: 1.8835\n",
      "Iteration: 800 Loss: 0.5016 Validation Loss: 1.8869\n",
      "Iteration: 900 Loss: 0.5015 Validation Loss: 1.8876\n",
      "Iteration: 1000 Loss: 0.5013 Validation Loss: 1.8876\n",
      "Iteration: 1100 Loss: 0.5017 Validation Loss: 1.8880\n",
      "Iteration: 1200 Loss: 0.5015 Validation Loss: 1.8878\n",
      "Iteration: 1300 Loss: 0.5014 Validation Loss: 1.8877\n",
      "Iteration: 1400 Loss: 0.5017 Validation Loss: 1.8880\n",
      "Iteration: 1500 Loss: 0.5015 Validation Loss: 1.8878\n",
      "Iteration: 1600 Loss: 0.5015 Validation Loss: 1.8878\n",
      "Iteration: 1700 Loss: 0.5015 Validation Loss: 1.8878\n",
      "Iteration: 1800 Loss: 0.5017 Validation Loss: 1.8880\n",
      "Iteration: 1900 Loss: 0.5015 Validation Loss: 1.8878\n",
      "Iteration: 2000 Loss: 0.5015 Validation Loss: 1.8878\n",
      "Iteration: 2100 Loss: 0.5018 Validation Loss: 1.8880\n",
      "Iteration: 2200 Loss: 0.5014 Validation Loss: 1.8876\n",
      "Iteration: 2300 Loss: 0.5015 Validation Loss: 1.8878\n",
      "Iteration: 2400 Loss: 0.5018 Validation Loss: 1.8881\n",
      "Iteration: 2500 Loss: 0.5015 Validation Loss: 1.8878\n",
      "Iteration: 2600 Loss: 0.5015 Validation Loss: 1.8878\n",
      "Iteration: 2700 Loss: 0.5016 Validation Loss: 1.8879\n",
      "Iteration: 2800 Loss: 0.5013 Validation Loss: 1.8876\n",
      "Iteration: 2900 Loss: 0.5015 Validation Loss: 1.8878\n",
      "Iteration: 3000 Loss: 0.5015 Validation Loss: 1.8878\n",
      "Iteration: 3100 Loss: 0.5017 Validation Loss: 1.8880\n",
      "Iteration: 3200 Loss: 0.5014 Validation Loss: 1.8877\n",
      "Iteration: 3300 Loss: 0.5015 Validation Loss: 1.8878\n",
      "Iteration: 3400 Loss: 0.5015 Validation Loss: 1.8878\n",
      "Iteration: 3500 Loss: 0.5015 Validation Loss: 1.8878\n",
      "Iteration: 3600 Loss: 0.5020 Validation Loss: 1.8883\n",
      "Iteration: 3700 Loss: 0.5014 Validation Loss: 1.8877\n",
      "Iteration: 3800 Loss: 0.5017 Validation Loss: 1.8880\n",
      "Iteration: 3900 Loss: 0.5015 Validation Loss: 1.8878\n",
      "Iteration: 4000 Loss: 0.5012 Validation Loss: 1.8875\n",
      "Iteration: 4100 Loss: 0.5016 Validation Loss: 1.8878\n",
      "Iteration: 4200 Loss: 0.5016 Validation Loss: 1.8879\n",
      "Iteration: 4300 Loss: 0.5014 Validation Loss: 1.8877\n",
      "Iteration: 4400 Loss: 0.5016 Validation Loss: 1.8879\n",
      "Iteration: 4500 Loss: 0.5014 Validation Loss: 1.8877\n",
      "Iteration: 4600 Loss: 0.5012 Validation Loss: 1.8875\n",
      "Iteration: 4700 Loss: 0.5020 Validation Loss: 1.8883\n",
      "Iteration: 4800 Loss: 0.5016 Validation Loss: 1.8879\n",
      "Iteration: 4900 Loss: 0.5015 Validation Loss: 1.8878\n"
     ]
    }
   ],
   "source": [
    "# Iterate over the data in batches and feed it to the network\n",
    "for i in range(5000):\n",
    "    text , target = get_batch('train')\n",
    "    logits, loss = model(text, target)\n",
    "    optimizer.zero_grad()\n",
    "    loss.backward()\n",
    "    optimizer.step()\n",
    "    # if(i%100 == 0):\n",
    "    #     print(loss)\n",
    "    if i % 100 == 0:\n",
    "        tl = estimate_loss('train')\n",
    "        vl = estimate_loss('val')\n",
    "        train_loss.append(tl)\n",
    "        val_loss.append(vl)\n",
    "        print(f\"Iteration: {i} Loss: {tl:.4f} Validation Loss: {vl:.4f}\")\n",
    "    \n",
    "    "
   ]
  },
  {
   "cell_type": "code",
   "execution_count": 362,
   "metadata": {},
   "outputs": [
    {
     "data": {
      "image/png": "[encoded data removed]",
      "text/plain": [
       "<Figure size 640x480 with 1 Axes>"
      ]
     },
     "metadata": {},
     "output_type": "display_data"
    }
   ],
   "source": [
    "import matplotlib.pyplot as plt\n",
    "\n",
    "epochs = list(range(1, len(train_loss)+1))\n",
    "\n",
    "# plot training loss in blue and validation loss in red\n",
    "plt.plot(epochs, train_loss, 'b', label='Training loss')\n",
    "plt.plot(epochs, val_loss, 'r', label='Validation loss')\n",
    "\n",
    "# set axis labels and legend\n",
    "plt.xlabel('Epochs')\n",
    "plt.ylabel('Loss')\n",
    "plt.legend()\n",
    "\n",
    "plt.show()"
   ]
  },
  {
   "cell_type": "code",
   "execution_count": null,
   "metadata": {},
   "outputs": [],
   "source": []
  }
 ],
 "metadata": {
  "kernelspec": {
   "display_name": "env_tf",
   "language": "python",
   "name": "python3"
  },
  "language_info": {
   "codemirror_mode": {
    "name": "ipython",
    "version": 3
   },
   "file_extension": ".py",
   "mimetype": "text/x-python",
   "name": "python",
   "nbconvert_exporter": "python",
   "pygments_lexer": "ipython3",
   "version": "3.9.10"
  },
  "orig_nbformat": 4
 },
 "nbformat": 4,
 "nbformat_minor": 2
}
